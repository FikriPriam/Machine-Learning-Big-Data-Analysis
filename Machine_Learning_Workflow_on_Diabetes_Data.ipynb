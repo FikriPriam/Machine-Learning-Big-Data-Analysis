{
  "nbformat": 4,
  "nbformat_minor": 0,
  "metadata": {
    "colab": {
      "name": "Machine Learning Workflow on Diabetes Data.ipynb",
      "version": "0.3.2",
      "provenance": [],
      "collapsed_sections": []
    },
    "kernelspec": {
      "display_name": "Python 3",
      "language": "python",
      "name": "python3"
    }
  },
  "cells": [
    {
      "metadata": {
        "id": "WjvoRcL6dxTv",
        "colab_type": "text"
      },
      "cell_type": "markdown",
      "source": [
        "# Machine Learning Workflow on Diabetes Data"
      ]
    },
    {
      "metadata": {
        "id": "WNpRFNbcdxTw",
        "colab_type": "code",
        "colab": {}
      },
      "cell_type": "code",
      "source": [
        "%matplotlib inline\n",
        "import pandas as pd\n",
        "import numpy as np\n",
        "import matplotlib.pyplot as plt\n",
        "import seaborn as sns"
      ],
      "execution_count": 0,
      "outputs": []
    },
    {
      "metadata": {
        "id": "srOWxIIAdxT3",
        "colab_type": "text"
      },
      "cell_type": "markdown",
      "source": [
        "## Phase 0 -  Data Preparation"
      ]
    },
    {
      "metadata": {
        "id": "OamYXU6MdxT4",
        "colab_type": "text"
      },
      "cell_type": "markdown",
      "source": [
        "Datasets\n",
        "\n",
        "URL : https://www.kaggle.com/uciml/pima-indians-diabetes-database"
      ]
    },
    {
      "metadata": {
        "id": "RRY1BeyMdxT5",
        "colab_type": "text"
      },
      "cell_type": "markdown",
      "source": [
        "## Phase 1 -  Data Exploration"
      ]
    },
    {
      "metadata": {
        "id": "7ITBd7d8dxT7",
        "colab_type": "code",
        "colab": {},
        "outputId": "a4f1f333-ad84-4ee2-dd60-7ef0711545de"
      },
      "cell_type": "code",
      "source": [
        "diabetes = pd.read_csv('datasets/diabetes.csv')\n",
        "print(diabetes.columns)"
      ],
      "execution_count": 0,
      "outputs": [
        {
          "output_type": "stream",
          "text": [
            "Index(['Pregnancies', 'Glucose', 'BloodPressure', 'SkinThickness', 'Insulin',\n",
            "       'BMI', 'DiabetesPedigreeFunction', 'Age', 'Outcome'],\n",
            "      dtype='object')\n"
          ],
          "name": "stdout"
        }
      ]
    },
    {
      "metadata": {
        "id": "MHkGyv1LdxUD",
        "colab_type": "code",
        "colab": {},
        "outputId": "a4f2457a-8e0a-4304-bc9f-d2d6c8825f24"
      },
      "cell_type": "code",
      "source": [
        "diabetes.head()"
      ],
      "execution_count": 0,
      "outputs": [
        {
          "output_type": "execute_result",
          "data": {
            "text/html": [
              "<div>\n",
              "<style scoped>\n",
              "    .dataframe tbody tr th:only-of-type {\n",
              "        vertical-align: middle;\n",
              "    }\n",
              "\n",
              "    .dataframe tbody tr th {\n",
              "        vertical-align: top;\n",
              "    }\n",
              "\n",
              "    .dataframe thead th {\n",
              "        text-align: right;\n",
              "    }\n",
              "</style>\n",
              "<table border=\"1\" class=\"dataframe\">\n",
              "  <thead>\n",
              "    <tr style=\"text-align: right;\">\n",
              "      <th></th>\n",
              "      <th>Pregnancies</th>\n",
              "      <th>Glucose</th>\n",
              "      <th>BloodPressure</th>\n",
              "      <th>SkinThickness</th>\n",
              "      <th>Insulin</th>\n",
              "      <th>BMI</th>\n",
              "      <th>DiabetesPedigreeFunction</th>\n",
              "      <th>Age</th>\n",
              "      <th>Outcome</th>\n",
              "    </tr>\n",
              "  </thead>\n",
              "  <tbody>\n",
              "    <tr>\n",
              "      <th>0</th>\n",
              "      <td>6</td>\n",
              "      <td>148</td>\n",
              "      <td>72</td>\n",
              "      <td>35</td>\n",
              "      <td>0</td>\n",
              "      <td>33.6</td>\n",
              "      <td>0.627</td>\n",
              "      <td>50</td>\n",
              "      <td>1</td>\n",
              "    </tr>\n",
              "    <tr>\n",
              "      <th>1</th>\n",
              "      <td>1</td>\n",
              "      <td>85</td>\n",
              "      <td>66</td>\n",
              "      <td>29</td>\n",
              "      <td>0</td>\n",
              "      <td>26.6</td>\n",
              "      <td>0.351</td>\n",
              "      <td>31</td>\n",
              "      <td>0</td>\n",
              "    </tr>\n",
              "    <tr>\n",
              "      <th>2</th>\n",
              "      <td>8</td>\n",
              "      <td>183</td>\n",
              "      <td>64</td>\n",
              "      <td>0</td>\n",
              "      <td>0</td>\n",
              "      <td>23.3</td>\n",
              "      <td>0.672</td>\n",
              "      <td>32</td>\n",
              "      <td>1</td>\n",
              "    </tr>\n",
              "    <tr>\n",
              "      <th>3</th>\n",
              "      <td>1</td>\n",
              "      <td>89</td>\n",
              "      <td>66</td>\n",
              "      <td>23</td>\n",
              "      <td>94</td>\n",
              "      <td>28.1</td>\n",
              "      <td>0.167</td>\n",
              "      <td>21</td>\n",
              "      <td>0</td>\n",
              "    </tr>\n",
              "    <tr>\n",
              "      <th>4</th>\n",
              "      <td>0</td>\n",
              "      <td>137</td>\n",
              "      <td>40</td>\n",
              "      <td>35</td>\n",
              "      <td>168</td>\n",
              "      <td>43.1</td>\n",
              "      <td>2.288</td>\n",
              "      <td>33</td>\n",
              "      <td>1</td>\n",
              "    </tr>\n",
              "  </tbody>\n",
              "</table>\n",
              "</div>"
            ],
            "text/plain": [
              "   Pregnancies  Glucose  BloodPressure  SkinThickness  Insulin   BMI  \\\n",
              "0            6      148             72             35        0  33.6   \n",
              "1            1       85             66             29        0  26.6   \n",
              "2            8      183             64              0        0  23.3   \n",
              "3            1       89             66             23       94  28.1   \n",
              "4            0      137             40             35      168  43.1   \n",
              "\n",
              "   DiabetesPedigreeFunction  Age  Outcome  \n",
              "0                     0.627   50        1  \n",
              "1                     0.351   31        0  \n",
              "2                     0.672   32        1  \n",
              "3                     0.167   21        0  \n",
              "4                     2.288   33        1  "
            ]
          },
          "metadata": {
            "tags": []
          },
          "execution_count": 3
        }
      ]
    },
    {
      "metadata": {
        "id": "hGyfYCsgdxUI",
        "colab_type": "code",
        "colab": {},
        "outputId": "57c3ac09-9e41-4aa1-b031-717a310aa264"
      },
      "cell_type": "code",
      "source": [
        "print(\"Diabetes data set dimensions : {}\".format(diabetes.shape))"
      ],
      "execution_count": 0,
      "outputs": [
        {
          "output_type": "stream",
          "text": [
            "Diabetes data set dimensions : (768, 9)\n"
          ],
          "name": "stdout"
        }
      ]
    },
    {
      "metadata": {
        "id": "_KPUp67edxUN",
        "colab_type": "code",
        "colab": {},
        "outputId": "b8d5c59b-518c-45a6-8b8a-7e524565cb7c"
      },
      "cell_type": "code",
      "source": [
        "diabetes.groupby('Outcome').size()"
      ],
      "execution_count": 0,
      "outputs": [
        {
          "output_type": "execute_result",
          "data": {
            "text/plain": [
              "Outcome\n",
              "0    500\n",
              "1    268\n",
              "dtype: int64"
            ]
          },
          "metadata": {
            "tags": []
          },
          "execution_count": 5
        }
      ]
    },
    {
      "metadata": {
        "id": "jCOs8KJydxUT",
        "colab_type": "code",
        "colab": {},
        "outputId": "a180172f-79a1-4ffb-c46e-ebaeda79dd7e"
      },
      "cell_type": "code",
      "source": [
        "diabetes.hist(figsize=(9, 9))"
      ],
      "execution_count": 0,
      "outputs": [
        {
          "output_type": "execute_result",
          "data": {
            "text/plain": [
              "array([[<matplotlib.axes._subplots.AxesSubplot object at 0x0000001C916D1160>,\n",
              "        <matplotlib.axes._subplots.AxesSubplot object at 0x0000001C91712588>,\n",
              "        <matplotlib.axes._subplots.AxesSubplot object at 0x0000001C9173EB00>],\n",
              "       [<matplotlib.axes._subplots.AxesSubplot object at 0x0000001C917720B8>,\n",
              "        <matplotlib.axes._subplots.AxesSubplot object at 0x0000001C91797630>,\n",
              "        <matplotlib.axes._subplots.AxesSubplot object at 0x0000001C917BFBA8>],\n",
              "       [<matplotlib.axes._subplots.AxesSubplot object at 0x0000001C917EE160>,\n",
              "        <matplotlib.axes._subplots.AxesSubplot object at 0x0000001C91816710>,\n",
              "        <matplotlib.axes._subplots.AxesSubplot object at 0x0000001C91816748>]],\n",
              "      dtype=object)"
            ]
          },
          "metadata": {
            "tags": []
          },
          "execution_count": 6
        },
        {
          "output_type": "display_data",
          "data": {
            "image/png": "[encoded data removed]",
            "text/plain": [
              "<Figure size 648x648 with 9 Axes>"
            ]
          },
          "metadata": {
            "tags": [],
            "needs_background": "light"
          }
        }
      ]
    },
    {
      "metadata": {
        "id": "1M_V8Tp3dxUa",
        "colab_type": "code",
        "colab": {},
        "outputId": "f359b3f0-30d8-44dc-94f6-67694422dc1b"
      },
      "cell_type": "code",
      "source": [
        "diabetes.groupby('Outcome').hist(figsize=(9, 9))"
      ],
      "execution_count": 0,
      "outputs": [
        {
          "output_type": "execute_result",
          "data": {
            "text/plain": [
              "Outcome\n",
              "0    [[AxesSubplot(0.125,0.670278;0.215278x0.209722...\n",
              "1    [[AxesSubplot(0.125,0.670278;0.215278x0.209722...\n",
              "dtype: object"
            ]
          },
          "metadata": {
            "tags": []
          },
          "execution_count": 7
        },
        {
          "output_type": "display_data",
          "data": {
            "image/png": "[encoded data removed]",
            "text/plain": [
              "<Figure size 648x648 with 9 Axes>"
            ]
          },
          "metadata": {
            "tags": [],
            "needs_background": "light"
          }
        },
        {
          "output_type": "display_data",
          "data": {
            "image/png": "[encoded data removed]",
            "text/plain": [
              "<Figure size 648x648 with 9 Axes>"
            ]
          },
          "metadata": {
            "tags": [],
            "needs_background": "light"
          }
        }
      ]
    },
    {
      "metadata": {
        "collapsed": true,
        "id": "8g-WoIRvdxUe",
        "colab_type": "text"
      },
      "cell_type": "markdown",
      "source": [
        "## Phase 2 - Data Cleaning"
      ]
    },
    {
      "metadata": {
        "id": "kcud9luMdxUf",
        "colab_type": "text"
      },
      "cell_type": "markdown",
      "source": [
        "### Missing or Null Data points"
      ]
    },
    {
      "metadata": {
        "id": "_a3_po0NdxUh",
        "colab_type": "code",
        "colab": {},
        "outputId": "9cd8f0a3-f03d-4389-d9dc-a13a9cfd9c13"
      },
      "cell_type": "code",
      "source": [
        "diabetes.isnull().sum()"
      ],
      "execution_count": 0,
      "outputs": [
        {
          "output_type": "execute_result",
          "data": {
            "text/plain": [
              "Pregnancies                 0\n",
              "Glucose                     0\n",
              "BloodPressure               0\n",
              "SkinThickness               0\n",
              "Insulin                     0\n",
              "BMI                         0\n",
              "DiabetesPedigreeFunction    0\n",
              "Age                         0\n",
              "Outcome                     0\n",
              "dtype: int64"
            ]
          },
          "metadata": {
            "tags": []
          },
          "execution_count": 8
        }
      ]
    },
    {
      "metadata": {
        "id": "EBGq31KpdxUm",
        "colab_type": "code",
        "colab": {},
        "outputId": "48d59a20-0bba-47a1-d4d0-4cec368f4a32"
      },
      "cell_type": "code",
      "source": [
        "diabetes.isna().sum()"
      ],
      "execution_count": 0,
      "outputs": [
        {
          "output_type": "execute_result",
          "data": {
            "text/plain": [
              "Pregnancies                 0\n",
              "Glucose                     0\n",
              "BloodPressure               0\n",
              "SkinThickness               0\n",
              "Insulin                     0\n",
              "BMI                         0\n",
              "DiabetesPedigreeFunction    0\n",
              "Age                         0\n",
              "Outcome                     0\n",
              "dtype: int64"
            ]
          },
          "metadata": {
            "tags": []
          },
          "execution_count": 9
        }
      ]
    },
    {
      "metadata": {
        "id": "ZCMAR4nWdxUs",
        "colab_type": "text"
      },
      "cell_type": "markdown",
      "source": [
        "### Unexpected Outliers"
      ]
    },
    {
      "metadata": {
        "id": "2ZyBuz_TdxUt",
        "colab_type": "code",
        "colab": {},
        "outputId": "929516f1-184b-4243-8864-1546d242ec2c"
      },
      "cell_type": "code",
      "source": [
        "print(\"Total : \", diabetes[diabetes.BloodPressure == 0].shape[0])\n",
        "print(diabetes[diabetes.BloodPressure == 0].groupby('Outcome')['Age'].count())"
      ],
      "execution_count": 0,
      "outputs": [
        {
          "output_type": "stream",
          "text": [
            "Total :  35\n",
            "Outcome\n",
            "0    19\n",
            "1    16\n",
            "Name: Age, dtype: int64\n"
          ],
          "name": "stdout"
        }
      ]
    },
    {
      "metadata": {
        "id": "sT8dicJGdxU0",
        "colab_type": "code",
        "colab": {},
        "outputId": "d591cec7-b529-42ad-92a9-32b4493e1f47"
      },
      "cell_type": "code",
      "source": [
        "print(\"Total : \", diabetes[diabetes.Glucose == 0].shape[0])\n",
        "print(diabetes[diabetes.Glucose == 0].groupby('Outcome')['Age'].count())"
      ],
      "execution_count": 0,
      "outputs": [
        {
          "output_type": "stream",
          "text": [
            "Total :  5\n",
            "Outcome\n",
            "0    3\n",
            "1    2\n",
            "Name: Age, dtype: int64\n"
          ],
          "name": "stdout"
        }
      ]
    },
    {
      "metadata": {
        "id": "G6t_lKZbdxU5",
        "colab_type": "code",
        "colab": {},
        "outputId": "5ae473eb-52f0-4712-ef3f-438294971c54"
      },
      "cell_type": "code",
      "source": [
        "print(\"Total : \", diabetes[diabetes.SkinThickness == 0].shape[0])\n",
        "print(diabetes[diabetes.SkinThickness == 0].groupby('Outcome')['Age'].count())"
      ],
      "execution_count": 0,
      "outputs": [
        {
          "output_type": "stream",
          "text": [
            "Total :  227\n",
            "Outcome\n",
            "0    139\n",
            "1     88\n",
            "Name: Age, dtype: int64\n"
          ],
          "name": "stdout"
        }
      ]
    },
    {
      "metadata": {
        "id": "y-wL8JaTdxVA",
        "colab_type": "code",
        "colab": {},
        "outputId": "98bc53d7-d3c5-45b1-fdb3-88f3254b6bb2"
      },
      "cell_type": "code",
      "source": [
        "print(\"Total : \", diabetes[diabetes.BMI == 0].shape[0])\n",
        "print(diabetes[diabetes.BMI == 0].groupby('Outcome')['Age'].count())"
      ],
      "execution_count": 0,
      "outputs": [
        {
          "output_type": "stream",
          "text": [
            "Total :  11\n",
            "Outcome\n",
            "0    9\n",
            "1    2\n",
            "Name: Age, dtype: int64\n"
          ],
          "name": "stdout"
        }
      ]
    },
    {
      "metadata": {
        "id": "JBVbb9z3dxVG",
        "colab_type": "code",
        "colab": {},
        "outputId": "3d2124f2-d663-409c-cbf0-a8a24d1c8d56"
      },
      "cell_type": "code",
      "source": [
        "print(\"Total : \", diabetes[diabetes.Insulin == 0].shape[0])\n",
        "print(diabetes[diabetes.Insulin == 0].groupby('Outcome')['Age'].count())"
      ],
      "execution_count": 0,
      "outputs": [
        {
          "output_type": "stream",
          "text": [
            "Total :  374\n",
            "Outcome\n",
            "0    236\n",
            "1    138\n",
            "Name: Age, dtype: int64\n"
          ],
          "name": "stdout"
        }
      ]
    },
    {
      "metadata": {
        "id": "rv5Tar53dxVM",
        "colab_type": "code",
        "colab": {},
        "outputId": "c5111a0c-18ce-443d-8f31-036c7af614ad"
      },
      "cell_type": "code",
      "source": [
        "diabetes_mod = diabetes[(diabetes.BloodPressure != 0) & (diabetes.BMI != 0) & (diabetes.Glucose != 0)]\n",
        "print(diabetes_mod.shape)"
      ],
      "execution_count": 0,
      "outputs": [
        {
          "output_type": "stream",
          "text": [
            "(724, 9)\n"
          ],
          "name": "stdout"
        }
      ]
    },
    {
      "metadata": {
        "id": "WsZmYGuBdxVQ",
        "colab_type": "text"
      },
      "cell_type": "markdown",
      "source": [
        "## Phase 3 - Model Selection"
      ]
    },
    {
      "metadata": {
        "id": "wfd0FSKRdxVR",
        "colab_type": "code",
        "colab": {}
      },
      "cell_type": "code",
      "source": [
        "# Features/Response\n",
        "feature_names = ['Pregnancies', 'Glucose', 'BloodPressure', 'SkinThickness', 'Insulin', 'BMI', 'DiabetesPedigreeFunction', 'Age']\n",
        "X = diabetes_mod[feature_names]\n",
        "y = diabetes_mod.Outcome"
      ],
      "execution_count": 0,
      "outputs": []
    },
    {
      "metadata": {
        "id": "e-dkzBZYdxVV",
        "colab_type": "text"
      },
      "cell_type": "markdown",
      "source": [
        "## Phase 4 - Model Selection"
      ]
    },
    {
      "metadata": {
        "id": "ANklx8HsdxVX",
        "colab_type": "code",
        "colab": {}
      },
      "cell_type": "code",
      "source": [
        "from sklearn.neighbors import KNeighborsClassifier\n",
        "from sklearn.svm import SVC\n",
        "from sklearn.linear_model import LogisticRegression\n",
        "from sklearn.tree import DecisionTreeClassifier\n",
        "from sklearn.naive_bayes import GaussianNB\n",
        "from sklearn.ensemble import RandomForestClassifier\n",
        "from sklearn.ensemble import GradientBoostingClassifier\n",
        "\n",
        "from sklearn.model_selection import train_test_split\n",
        "from sklearn.model_selection import cross_val_score\n",
        "from sklearn.model_selection import StratifiedKFold\n",
        "from sklearn.metrics import accuracy_score"
      ],
      "execution_count": 0,
      "outputs": []
    },
    {
      "metadata": {
        "id": "Nv2TUgCzdxVa",
        "colab_type": "code",
        "colab": {}
      },
      "cell_type": "code",
      "source": [
        "# Initial model selection process\n",
        "models = []\n",
        "\n",
        "models.append(('KNN', KNeighborsClassifier()))\n",
        "models.append(('SVC', SVC(gamma='scale')))\n",
        "models.append(('LR', LogisticRegression(solver='lbfgs', max_iter=4000)))\n",
        "models.append(('DT', DecisionTreeClassifier()))\n",
        "models.append(('GNB', GaussianNB()))\n",
        "models.append(('RF', RandomForestClassifier(n_estimators=100)))\n",
        "models.append(('GB', GradientBoostingClassifier()))"
      ],
      "execution_count": 0,
      "outputs": []
    },
    {
      "metadata": {
        "id": "7B8qwsuodxVh",
        "colab_type": "text"
      },
      "cell_type": "markdown",
      "source": [
        "### Using Train/Test split"
      ]
    },
    {
      "metadata": {
        "id": "6VGWotQUdxVj",
        "colab_type": "code",
        "colab": {}
      },
      "cell_type": "code",
      "source": [
        "# Train/Test split\n",
        "X_train, X_test, y_train, y_test = train_test_split(X, y, stratify = diabetes_mod.Outcome, random_state=0)"
      ],
      "execution_count": 0,
      "outputs": []
    },
    {
      "metadata": {
        "id": "sRIGWzjZdxVo",
        "colab_type": "code",
        "colab": {},
        "outputId": "374e7f04-c7fa-4f9f-83ce-470e60bbcd84"
      },
      "cell_type": "code",
      "source": [
        "names = []\n",
        "scores = []\n",
        "\n",
        "for name, model in models:\n",
        "    model.fit(X_train, y_train)\n",
        "    y_pred = model.predict(X_test)\n",
        "    scores.append(accuracy_score(y_test, y_pred))\n",
        "    names.append(name)\n",
        "\n",
        "tr_split = pd.DataFrame({'Name': names, 'Score': scores})\n",
        "print(tr_split)"
      ],
      "execution_count": 0,
      "outputs": [
        {
          "output_type": "stream",
          "text": [
            "  Name     Score\n",
            "0  KNN  0.729282\n",
            "1  SVC  0.740331\n",
            "2   LR  0.779006\n",
            "3   DT  0.729282\n",
            "4  GNB  0.734807\n",
            "5   RF  0.751381\n",
            "6   GB  0.773481\n"
          ],
          "name": "stdout"
        }
      ]
    }
  ]
}